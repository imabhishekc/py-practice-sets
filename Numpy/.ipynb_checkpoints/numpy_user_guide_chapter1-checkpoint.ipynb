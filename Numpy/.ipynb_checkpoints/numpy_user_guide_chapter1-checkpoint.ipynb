{
 "cells": [
  {
   "cell_type": "markdown",
   "id": "d0ac3948-ecbb-420b-a9da-d772c5012923",
   "metadata": {},
   "source": [
    "## Chapter 1: Setting Up NumPy"
   ]
  },
  {
   "cell_type": "markdown",
   "id": "a37e6088-7ac3-465b-b087-251d509fae08",
   "metadata": {},
   "source": [
    "### 1.1 What is NumPy?\n",
    "##### NumPy (Numerical Python) is a powerful Python library used for scientific and mathematical computing."
   ]
  },
  {
   "cell_type": "markdown",
   "id": "cf969807-7dcc-453e-8912-e1a0147ccb54",
   "metadata": {},
   "source": [
    "### Why use NumPy?\n",
    "##### -> It provides a special object called ndarray for working with multidimensional arrays.\n",
    "##### -> Includes many fast and efficient functions for:\n",
    "##### -> Mathematical operations (e.g. sum, mean, multiplication)\n",
    "##### -> Shape manipulation (reshape, flatten)\n",
    "##### -> Sorting and selecting\n",
    "##### -> Input/output operations\n",
    "##### -> Fourier transforms, linear algebra, statistics, and random simulations\n",
    "\n"
   ]
  },
  {
   "cell_type": "markdown",
   "id": "01f99381-4118-4c00-9cd2-26591dbe4db6",
   "metadata": {},
   "source": [
    "### Key Differences from Python Lists\n",
    "\n",
    "#### NumPy Array\n",
    "##### Fixed size at creation\n",
    "##### Same data type for all elements\n",
    "##### Faster for large data operations\n",
    "##### Supports vectorized (element-wise) operations\n",
    "\n",
    "#### Python List\n",
    "##### Dynamic size\n",
    "##### Can mix data types\n",
    "##### Slower with large datasets\n",
    "##### Requires loops for element-wise operations"
   ]
  },
  {
   "cell_type": "markdown",
   "id": "cd73b626-5064-4062-9718-0b81c4357d6f",
   "metadata": {},
   "source": [
    "###  Why NumPy matters?\n",
    "##### Most Python libraries for data science, machine learning, and scientific computing (like pandas, scikit-learn, TensorFlow, etc.) are built on top of or use NumPy internally. So, learning NumPy is essential."
   ]
  },
  {
   "cell_type": "markdown",
   "id": "8aae1e92-78df-4e9f-839d-028072dc3c7a",
   "metadata": {},
   "source": [
    "### Simple Example (NumPy vs Python Lists: Performance Test)\n",
    "#### Problem Statement\n",
    "##### Suppose we want to multiply each element of two 1D sequences (a and b) of the same length.\n",
    "##### Python allows you to do this using loops, but it's slow when working with millions of elements."
   ]
  },
  {
   "cell_type": "code",
   "execution_count": 10,
   "id": "92e7b5ba-fef8-4058-8b2a-dfa4cf54f26a",
   "metadata": {},
   "outputs": [
    {
     "name": "stdout",
     "output_type": "stream",
     "text": [
      "Python List Time: 0.2004 seconds\n"
     ]
    }
   ],
   "source": [
    "import time\n",
    "\n",
    "# Create two large lists\n",
    "a = list(range(1_000_000))\n",
    "b = list(range(1_000_000))\n",
    "\n",
    "start = time.time()\n",
    "\n",
    "# Element-wise multiplication using loop\n",
    "c = []\n",
    "for i in range(len(a)):\n",
    "    c.append(a[i] * b[i])\n",
    "\n",
    "end = time.time()\n",
    "\n",
    "print(\"Python List Time:\", round(end - start, 4), \"seconds\")"
   ]
  },
  {
   "cell_type": "markdown",
   "id": "c46619e7-4f94-4ff2-b1a4-7e8604fcc62f",
   "metadata": {},
   "source": [
    "##### Using NumPy Arrays (Faster)"
   ]
  },
  {
   "cell_type": "code",
   "execution_count": 11,
   "id": "46124dba-0473-4037-aa43-f208018e436e",
   "metadata": {},
   "outputs": [
    {
     "name": "stdout",
     "output_type": "stream",
     "text": [
      "NumPy Array Time: 0.0148, seconds\n"
     ]
    }
   ],
   "source": [
    "import numpy as np\n",
    "import time\n",
    "\n",
    "# Create two large NumPy arrays\n",
    "a = np.arange(1_000_000)\n",
    "b = np.arange(1_000_000)\n",
    "\n",
    "start = time.time()\n",
    "\n",
    "# Element-wise multiplication using vectorization\n",
    "c = a * b\n",
    "end = time.time()\n",
    "\n",
    "print(f\"NumPy Array Time: {round(end - start, 4)}, seconds\") "
   ]
  },
  {
   "cell_type": "code",
   "execution_count": null,
   "id": "09bd1f39-37b1-4727-8e70-4b0a3945da7c",
   "metadata": {},
   "outputs": [],
   "source": []
  }
 ],
 "metadata": {
  "kernelspec": {
   "display_name": "Python 3 (ipykernel)",
   "language": "python",
   "name": "python3"
  },
  "language_info": {
   "codemirror_mode": {
    "name": "ipython",
    "version": 3
   },
   "file_extension": ".py",
   "mimetype": "text/x-python",
   "name": "python",
   "nbconvert_exporter": "python",
   "pygments_lexer": "ipython3",
   "version": "3.11.9"
  }
 },
 "nbformat": 4,
 "nbformat_minor": 5
}
