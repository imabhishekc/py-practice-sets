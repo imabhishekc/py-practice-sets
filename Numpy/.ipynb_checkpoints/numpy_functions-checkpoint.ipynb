{
 "cells": [
  {
   "cell_type": "markdown",
   "id": "7d0b8cf3-8697-4741-897e-c99f9ea68e3a",
   "metadata": {},
   "source": [
    "# NumPy Functions – An Overview\n",
    "\n",
    "NumPy provides a powerful suite of **built-in functions** that make numerical computing fast, easy, and expressive.\n",
    "\n",
    "These functions operate efficiently on `ndarray` objects and are often implemented in low-level C, making them **much faster than standard Python loops**.\n",
    "\n",
    "---\n",
    "\n",
    "> NumPy functions allow you to write less code and achieve more – while maintaining performance and readability.\n",
    "\n",
    "Below, we’ll explore the most common and useful functions with examples.\n"
   ]
  },
  {
   "cell_type": "markdown",
   "id": "4cdcbe71-5985-4a69-ab97-a2c7cf68f495",
   "metadata": {},
   "source": [
    "# Commonly Used NumPy Functions\n",
    "\n",
    "---\n",
    "\n",
    "## Random Number Generation\n",
    "\n",
    "```python\n",
    "np.random.random()\n",
    "np.random.seed(1)\n",
    "np.random.random()\n",
    "```\n",
    "\n",
    "`np.random.random()` – generates a float between 0 and 1.\n",
    "\n",
    "`np.random.seed(n)` – ensures reproducibility by setting the random seed."
   ]
  },
  {
   "cell_type": "code",
   "execution_count": 1,
   "id": "b05de9a0-2917-42e7-bbff-4e4a7cf7c254",
   "metadata": {},
   "outputs": [],
   "source": [
    "# Importing the NumPy library\n",
    "import numpy as np"
   ]
  },
  {
   "cell_type": "code",
   "execution_count": 2,
   "id": "397c8a77-c3a0-4cdf-b29c-64f1c9949d3a",
   "metadata": {},
   "outputs": [
    {
     "data": {
      "text/plain": [
       "0.8072147392641245"
      ]
     },
     "execution_count": 2,
     "metadata": {},
     "output_type": "execute_result"
    }
   ],
   "source": [
    "np.random.random()"
   ]
  },
  {
   "cell_type": "code",
   "execution_count": 4,
   "id": "3c52e17d-009c-4190-98d0-007d9e687f05",
   "metadata": {},
   "outputs": [
    {
     "data": {
      "text/plain": [
       "0.417022004702574"
      ]
     },
     "execution_count": 4,
     "metadata": {},
     "output_type": "execute_result"
    }
   ],
   "source": [
    "np.random.seed(1)\n",
    "np.random.random()"
   ]
  },
  {
   "cell_type": "markdown",
   "id": "3bf7eb38-dc7f-41f7-a59f-ee51f1acb042",
   "metadata": {},
   "source": [
    "### Uniform & Integer Sampling"
   ]
  },
  {
   "cell_type": "code",
   "execution_count": 7,
   "id": "e50bfd27-c8ef-49e7-b0ea-05792cc2e0c1",
   "metadata": {},
   "outputs": [
    {
     "data": {
      "text/plain": [
       "5.116328008422879"
      ]
     },
     "execution_count": 7,
     "metadata": {},
     "output_type": "execute_result"
    }
   ],
   "source": [
    "np.random.uniform(3, 10)"
   ]
  },
  {
   "cell_type": "code",
   "execution_count": 8,
   "id": "37bec971-9d98-4d86-b2f4-faa249fc333d",
   "metadata": {},
   "outputs": [
    {
     "data": {
      "text/plain": [
       "array([[15.52883319, 10.14152088, 19.43976093, 35.21051198, 40.27997995],\n",
       "       [54.34285667, 42.50025693, 68.83673054, 21.24077272, 87.9336262 ]])"
      ]
     },
     "execution_count": 8,
     "metadata": {},
     "output_type": "execute_result"
    }
   ],
   "source": [
    "np.random.uniform(1, 100, 10).reshape(2, 5)"
   ]
  },
  {
   "cell_type": "code",
   "execution_count": 15,
   "id": "ddcad01e-f6f5-49bb-aa7f-1daa7fff6b8c",
   "metadata": {},
   "outputs": [
    {
     "data": {
      "text/plain": [
       "array([[ 8, 27, 26, 23, 10, 68],\n",
       "       [24, 28, 38, 58, 84, 39],\n",
       "       [ 9, 33, 35, 11, 24, 16]])"
      ]
     },
     "execution_count": 15,
     "metadata": {},
     "output_type": "execute_result"
    }
   ],
   "source": [
    "np.random.randint(1, 100, 18).reshape(3, 6)"
   ]
  },
  {
   "cell_type": "markdown",
   "id": "17a947d4-9ae8-44ac-bf11-8870137aa44b",
   "metadata": {},
   "source": [
    "- `uniform(a, b)` – generates float(s) between `a` and `b`.\n",
    "- `randint(a, b, size)` – generates integers between `a` and `b`."
   ]
  },
  {
   "cell_type": "markdown",
   "id": "ab61e31b-7760-40d4-9b14-5e3834865780",
   "metadata": {},
   "source": [
    "### Max, Min, Argmax, Argmin"
   ]
  },
  {
   "cell_type": "markdown",
   "id": "c7e655a8-0ab0-477d-b7d4-430fe5c07630",
   "metadata": {},
   "source": [
    "- `max()` / `min()` – return max/min value.\n",
    "\n",
    "- `argmax()` / `argmin()` – return index of max/min value."
   ]
  },
  {
   "cell_type": "code",
   "execution_count": 17,
   "id": "201fceb8-6bb8-4370-8049-d539c66b131a",
   "metadata": {},
   "outputs": [
    {
     "data": {
      "text/plain": [
       "array([8, 2, 2, 4, 1, 9])"
      ]
     },
     "execution_count": 17,
     "metadata": {},
     "output_type": "execute_result"
    }
   ],
   "source": [
    "arr1 = np.random.randint(1, 10, 6)\n",
    "arr1"
   ]
  },
  {
   "cell_type": "code",
   "execution_count": 18,
   "id": "fa0a52e6-d045-4543-b9b5-86fa02309af9",
   "metadata": {},
   "outputs": [
    {
     "data": {
      "text/plain": [
       "9"
      ]
     },
     "execution_count": 18,
     "metadata": {},
     "output_type": "execute_result"
    }
   ],
   "source": [
    "np.max(arr1)"
   ]
  },
  {
   "cell_type": "code",
   "execution_count": 19,
   "id": "40f4ca51-21fb-4153-95a8-85cf73952bc0",
   "metadata": {},
   "outputs": [
    {
     "data": {
      "text/plain": [
       "1"
      ]
     },
     "execution_count": 19,
     "metadata": {},
     "output_type": "execute_result"
    }
   ],
   "source": [
    "np.min(arr1)"
   ]
  },
  {
   "cell_type": "code",
   "execution_count": 22,
   "id": "5241d142-430f-4076-ae3e-343301fc5dd4",
   "metadata": {},
   "outputs": [
    {
     "data": {
      "text/plain": [
       "9"
      ]
     },
     "execution_count": 22,
     "metadata": {},
     "output_type": "execute_result"
    }
   ],
   "source": [
    "arr1[np.argmax(arr1)]"
   ]
  },
  {
   "cell_type": "code",
   "execution_count": 23,
   "id": "15a445b9-2b64-496b-95a3-da3c64c416f4",
   "metadata": {},
   "outputs": [
    {
     "data": {
      "text/plain": [
       "1"
      ]
     },
     "execution_count": 23,
     "metadata": {},
     "output_type": "execute_result"
    }
   ],
   "source": [
    "arr1[np.argmin(arr1)]"
   ]
  },
  {
   "cell_type": "code",
   "execution_count": 26,
   "id": "0f5c048b-7caf-46ba-9bfe-25a6b2a471b2",
   "metadata": {},
   "outputs": [
    {
     "data": {
      "text/plain": [
       "5"
      ]
     },
     "execution_count": 26,
     "metadata": {},
     "output_type": "execute_result"
    }
   ],
   "source": [
    "np.argmax(arr1)"
   ]
  },
  {
   "cell_type": "code",
   "execution_count": 27,
   "id": "184bf976-93e2-4726-b008-690dd3d151bd",
   "metadata": {},
   "outputs": [
    {
     "data": {
      "text/plain": [
       "4"
      ]
     },
     "execution_count": 27,
     "metadata": {},
     "output_type": "execute_result"
    }
   ],
   "source": [
    "np.argmin(arr1)"
   ]
  },
  {
   "cell_type": "code",
   "execution_count": 28,
   "id": "43d8f5c9-c34e-4a96-a5d5-97ea72f83378",
   "metadata": {},
   "outputs": [
    {
     "data": {
      "text/plain": [
       "array([7, 5, 6, 7, 3, 6])"
      ]
     },
     "execution_count": 28,
     "metadata": {},
     "output_type": "execute_result"
    }
   ],
   "source": [
    "arr1 = np.random.randint(1, 10, 6)\n",
    "arr1"
   ]
  },
  {
   "cell_type": "markdown",
   "id": "8f863e61-898d-48dd-97a5-bb7c7fdf6a64",
   "metadata": {},
   "source": [
    "### Array Filtering"
   ]
  },
  {
   "cell_type": "code",
   "execution_count": 30,
   "id": "a546e785-936a-4295-b9ab-c35a4b87629a",
   "metadata": {},
   "outputs": [
    {
     "data": {
      "text/plain": [
       "array([-1, -1,  6, -1, -1,  6])"
      ]
     },
     "execution_count": 30,
     "metadata": {},
     "output_type": "execute_result"
    }
   ],
   "source": [
    "arr1[arr1 % 2 == 1] = -1\n",
    "arr1"
   ]
  },
  {
   "cell_type": "markdown",
   "id": "273bf1f9-f7c4-4f12-9ce6-45e1bedfa6c9",
   "metadata": {},
   "source": [
    "- Sets odd elements in the array to `-1` using Boolean indexing."
   ]
  },
  {
   "cell_type": "markdown",
   "id": "c9223218-573c-4bda-8e94-deacf7bad3da",
   "metadata": {},
   "source": [
    "### Conditional Replacement with `where()`"
   ]
  },
  {
   "cell_type": "code",
   "execution_count": 31,
   "id": "0af6f512-6d4d-4207-b94b-81cebc618f29",
   "metadata": {},
   "outputs": [
    {
     "data": {
      "text/plain": [
       "array([21, 17, 23, 18, 21, 22])"
      ]
     },
     "execution_count": 31,
     "metadata": {},
     "output_type": "execute_result"
    }
   ],
   "source": [
    "arr2 = np.random.randint(10, 50, 6)\n",
    "arr2"
   ]
  },
  {
   "cell_type": "code",
   "execution_count": 33,
   "id": "962c8f9a-4f26-4be2-8619-16ae21c4ae40",
   "metadata": {},
   "outputs": [
    {
     "data": {
      "text/plain": [
       "array([-1, -1, -1, 18, -1, 22])"
      ]
     },
     "execution_count": 33,
     "metadata": {},
     "output_type": "execute_result"
    }
   ],
   "source": [
    "np.where(arr2 % 2 == 1, -1, arr2)"
   ]
  },
  {
   "cell_type": "code",
   "execution_count": 34,
   "id": "6e23fbb6-90db-4b28-81e5-4dd87158b0f6",
   "metadata": {},
   "outputs": [
    {
     "data": {
      "text/plain": [
       "array([-1, -1, -1, 18, -1, 22])"
      ]
     },
     "execution_count": 34,
     "metadata": {},
     "output_type": "execute_result"
    }
   ],
   "source": [
    "# Let's store it in a variable named 'out'\n",
    "out = np.where(arr2 % 2 == 1, -1, arr2)\n",
    "out"
   ]
  },
  {
   "cell_type": "markdown",
   "id": "298ef7e1-c23c-4654-83dc-3988fa633caa",
   "metadata": {},
   "source": [
    "- Replaces odd numbers with `-1`.\n",
    "\n",
    "- General form: `np.where(condition, value_if_true, value_if_false)`"
   ]
  },
  {
   "cell_type": "markdown",
   "id": "e1707eef-ab5d-49ba-84eb-40628f2319a5",
   "metadata": {},
   "source": [
    "### Sorting and Percentiles"
   ]
  },
  {
   "cell_type": "code",
   "execution_count": 36,
   "id": "922c176f-d765-4304-b6ee-cd3c837a4b8a",
   "metadata": {},
   "outputs": [
    {
     "data": {
      "text/plain": [
       "array([44, 21, 31, 37, 40,  8, 46,  5, 49, 19])"
      ]
     },
     "execution_count": 36,
     "metadata": {},
     "output_type": "execute_result"
    }
   ],
   "source": [
    "arr3 = np.random.randint(1, 50, 10)\n",
    "arr3"
   ]
  },
  {
   "cell_type": "code",
   "execution_count": 38,
   "id": "9fa63d3f-cab5-40d6-b3b6-176a3156c46e",
   "metadata": {},
   "outputs": [
    {
     "data": {
      "text/plain": [
       "array([ 5,  8, 19, 21, 31, 37, 40, 44, 46, 49])"
      ]
     },
     "execution_count": 38,
     "metadata": {},
     "output_type": "execute_result"
    }
   ],
   "source": [
    "sorted = np.sort(arr3)\n",
    "sorted"
   ]
  },
  {
   "cell_type": "code",
   "execution_count": 39,
   "id": "b04272f1-a567-46fa-8185-dcb4f5f4a41a",
   "metadata": {},
   "outputs": [
    {
     "data": {
      "text/plain": [
       "19.5"
      ]
     },
     "execution_count": 39,
     "metadata": {},
     "output_type": "execute_result"
    }
   ],
   "source": [
    "np.percentile(arr3, 25)"
   ]
  },
  {
   "cell_type": "code",
   "execution_count": 40,
   "id": "00e5f5dc-0e00-4ad0-a7f3-444e7e9b8e8c",
   "metadata": {},
   "outputs": [
    {
     "data": {
      "text/plain": [
       "34.0"
      ]
     },
     "execution_count": 40,
     "metadata": {},
     "output_type": "execute_result"
    }
   ],
   "source": [
    "np.percentile(arr3, 50)"
   ]
  },
  {
   "cell_type": "code",
   "execution_count": 41,
   "id": "d2d3d60b-3233-4c1c-be7e-7881ce33b552",
   "metadata": {},
   "outputs": [
    {
     "data": {
      "text/plain": [
       "43.0"
      ]
     },
     "execution_count": 41,
     "metadata": {},
     "output_type": "execute_result"
    }
   ],
   "source": [
    "np.percentile(arr3, 75)"
   ]
  },
  {
   "cell_type": "code",
   "execution_count": 42,
   "id": "8561fe9b-213e-4394-8bac-a46dd31d6aeb",
   "metadata": {},
   "outputs": [
    {
     "data": {
      "text/plain": [
       "49.0"
      ]
     },
     "execution_count": 42,
     "metadata": {},
     "output_type": "execute_result"
    }
   ],
   "source": [
    "np.percentile(arr3, 100)"
   ]
  },
  {
   "cell_type": "markdown",
   "id": "33406d24-9a96-4430-ae8a-0c8ea844dfe5",
   "metadata": {},
   "source": [
    "- `np.sort()` – sorts the array.\n",
    "\n",
    "- `percentile(array, p)` – returns the value below which `p%` of data falls."
   ]
  }
 ],
 "metadata": {
  "kernelspec": {
   "display_name": "Python 3 (ipykernel)",
   "language": "python",
   "name": "python3"
  },
  "language_info": {
   "codemirror_mode": {
    "name": "ipython",
    "version": 3
   },
   "file_extension": ".py",
   "mimetype": "text/x-python",
   "name": "python",
   "nbconvert_exporter": "python",
   "pygments_lexer": "ipython3",
   "version": "3.11.9"
  }
 },
 "nbformat": 4,
 "nbformat_minor": 5
}
