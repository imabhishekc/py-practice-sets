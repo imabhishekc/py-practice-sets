{
 "cells": [
  {
   "cell_type": "markdown",
   "id": "0dbb8c07-ea1d-4fc4-9fc4-24264b0e1d6a",
   "metadata": {},
   "source": [
    "# ⚙️ NumPy Operations\n",
    "\n",
    "NumPy allows us to perform a wide range of operations on arrays, including arithmetic, logical, and universal mathematical functions. These operations can be broadly categorized into:\n",
    "\n",
    "1. Basic Operations\n",
    "2. Unary Operations\n",
    "3. Universal Functions\n",
    "4. Type Conversion\n",
    "\n",
    "These operations are performed element-wise or across axes in a vectorized manner, making NumPy fast and efficient.\n",
    "\n",
    "---"
   ]
  },
  {
   "cell_type": "markdown",
   "id": "acf22ed9-3978-4be9-af3d-7a28ba48c283",
   "metadata": {},
   "source": [
    "### 1. Basic Operations"
   ]
  },
  {
   "cell_type": "code",
   "execution_count": 74,
   "id": "0ca6ee80-fa29-4962-b1b8-f64c86e1f6e2",
   "metadata": {},
   "outputs": [],
   "source": [
    "import numpy as np"
   ]
  },
  {
   "cell_type": "code",
   "execution_count": 75,
   "id": "f6c70f45-f82e-4c48-a101-9ec8b519e002",
   "metadata": {},
   "outputs": [],
   "source": [
    "arr1 = np.array([1, 2, 3, 4, 5, 6])\n",
    "arr2 = np.array([4, 5, 6, 7, 8, 9])"
   ]
  },
  {
   "cell_type": "code",
   "execution_count": 76,
   "id": "f312311e-ab80-45cf-add3-dab4cc9415c5",
   "metadata": {},
   "outputs": [
    {
     "data": {
      "text/plain": [
       "array([-3, -3, -3, -3, -3, -3])"
      ]
     },
     "execution_count": 76,
     "metadata": {},
     "output_type": "execute_result"
    }
   ],
   "source": [
    "# Vector subtraction\n",
    "arr1 - arr2"
   ]
  },
  {
   "cell_type": "markdown",
   "id": "05dce57f-02f9-48f6-ae42-58430e08c0e7",
   "metadata": {},
   "source": [
    "Subtracts each element in `arr2` from `arr1`."
   ]
  },
  {
   "cell_type": "code",
   "execution_count": 77,
   "id": "7ba6ce45-ef5e-479b-bf9e-7bafff7cf0dd",
   "metadata": {},
   "outputs": [
    {
     "data": {
      "text/plain": [
       "array([ 4, 10, 18, 28, 40, 54])"
      ]
     },
     "execution_count": 77,
     "metadata": {},
     "output_type": "execute_result"
    }
   ],
   "source": [
    "# b. Vector multiplication (element-wise)\n",
    "arr1 * arr2"
   ]
  },
  {
   "cell_type": "markdown",
   "id": "b068f02a-4d69-4c41-bbe0-8b4ecfd77b05",
   "metadata": {},
   "source": [
    "Multiplies each element in `arr1` with corresponding element in `arr2`."
   ]
  },
  {
   "cell_type": "code",
   "execution_count": 78,
   "id": "9be79086-b764-4916-8023-34c4249f78a4",
   "metadata": {},
   "outputs": [
    {
     "data": {
      "text/plain": [
       "array([ 2,  4,  6,  8, 10, 12])"
      ]
     },
     "execution_count": 78,
     "metadata": {},
     "output_type": "execute_result"
    }
   ],
   "source": [
    "# c. Scalar multiplication\n",
    "arr1 * 2"
   ]
  },
  {
   "cell_type": "markdown",
   "id": "5b779dfe-28a3-4ae9-8905-d38b40f506fb",
   "metadata": {},
   "source": [
    "Multiplies each element in `arr1` by 2."
   ]
  },
  {
   "cell_type": "code",
   "execution_count": 79,
   "id": "8ab6b3e5-17b9-4d27-8a5c-07dfade9c237",
   "metadata": {},
   "outputs": [
    {
     "data": {
      "text/plain": [
       "array([ True,  True,  True,  True,  True,  True])"
      ]
     },
     "execution_count": 79,
     "metadata": {},
     "output_type": "execute_result"
    }
   ],
   "source": [
    "# d. Element-wise comparison\n",
    "arr1 > 3\n",
    "arr2 > 3"
   ]
  },
  {
   "cell_type": "markdown",
   "id": "e1549cef-0e86-4ab6-be20-f6ec812e4b54",
   "metadata": {},
   "source": [
    "Returns a boolean array showing which elements are greater than 3."
   ]
  },
  {
   "cell_type": "markdown",
   "id": "4f2f261d-eba0-4e5d-b68b-d1e7ead56ab9",
   "metadata": {},
   "source": [
    "### Matrix Dot Product"
   ]
  },
  {
   "cell_type": "code",
   "execution_count": 80,
   "id": "6c092479-07f3-49ad-a010-479588f7695c",
   "metadata": {},
   "outputs": [],
   "source": [
    "arr3 = np.arange(6).reshape(2, 3)\n",
    "arr4 = np.arange(6, 12).reshape(3, 2)"
   ]
  },
  {
   "cell_type": "code",
   "execution_count": 81,
   "id": "ea4a268c-792b-4bb1-b66d-d10d6cd5a775",
   "metadata": {},
   "outputs": [
    {
     "data": {
      "text/plain": [
       "array([[ 6,  7],\n",
       "       [ 8,  9],\n",
       "       [10, 11]])"
      ]
     },
     "execution_count": 81,
     "metadata": {},
     "output_type": "execute_result"
    }
   ],
   "source": [
    "# View matrices\n",
    "arr3\n",
    "arr4"
   ]
  },
  {
   "cell_type": "code",
   "execution_count": 82,
   "id": "b82a5bcf-1319-4e84-b3d2-19b10dbe085d",
   "metadata": {},
   "outputs": [
    {
     "data": {
      "text/plain": [
       "array([[ 28,  31],\n",
       "       [100, 112]])"
      ]
     },
     "execution_count": 82,
     "metadata": {},
     "output_type": "execute_result"
    }
   ],
   "source": [
    "# e. Matrix multiplication (dot product)\n",
    "arr3.dot(arr4)"
   ]
  },
  {
   "cell_type": "markdown",
   "id": "b6b939eb-2324-406f-a402-d407e25b5bd7",
   "metadata": {},
   "source": [
    "Performs matrix multiplication between `arr3` (2x3) and `arr4` (3x2). Result is a 2x2 matrix."
   ]
  },
  {
   "cell_type": "code",
   "execution_count": 83,
   "id": "c1cc97c6-32ac-4957-af5f-d79e3f5a1a48",
   "metadata": {},
   "outputs": [
    {
     "data": {
      "text/plain": [
       "154"
      ]
     },
     "execution_count": 83,
     "metadata": {},
     "output_type": "execute_result"
    }
   ],
   "source": [
    "# f. Vector dot product\n",
    "arr1.dot(arr2)"
   ]
  },
  {
   "cell_type": "markdown",
   "id": "3d74251a-490d-4198-bd21-ca6275f23d37",
   "metadata": {},
   "source": [
    "Computes dot product of 1D arrays (produces a scalar)."
   ]
  },
  {
   "cell_type": "markdown",
   "id": "18ca2d64-4c90-4ad8-994b-1a16511aa021",
   "metadata": {},
   "source": [
    "### Unary Operations"
   ]
  },
  {
   "cell_type": "code",
   "execution_count": 84,
   "id": "5c6bd482-9c7c-483d-a664-db9f5e17f543",
   "metadata": {},
   "outputs": [
    {
     "data": {
      "text/plain": [
       "11"
      ]
     },
     "execution_count": 84,
     "metadata": {},
     "output_type": "execute_result"
    }
   ],
   "source": [
    "# Maximum Value\n",
    "arr4.max()"
   ]
  },
  {
   "cell_type": "code",
   "execution_count": 85,
   "id": "3baf32da-76f3-4c11-93fc-4619a0b00a7e",
   "metadata": {},
   "outputs": [
    {
     "data": {
      "text/plain": [
       "6"
      ]
     },
     "execution_count": 85,
     "metadata": {},
     "output_type": "execute_result"
    }
   ],
   "source": [
    "# Minimum value\n",
    "arr4.min()"
   ]
  },
  {
   "cell_type": "code",
   "execution_count": 87,
   "id": "9b04e1fc-e4f9-41a6-81d1-d9d4c94ada30",
   "metadata": {},
   "outputs": [
    {
     "data": {
      "text/plain": [
       "array([ 6,  8, 10])"
      ]
     },
     "execution_count": 87,
     "metadata": {},
     "output_type": "execute_result"
    }
   ],
   "source": [
    "# Minimum along columns and rows\n",
    "arr4.min(axis=0)\n",
    "arr4.min(axis=1)"
   ]
  },
  {
   "cell_type": "code",
   "execution_count": 88,
   "id": "899e280c-ee93-4a2f-a619-b913ec465483",
   "metadata": {},
   "outputs": [
    {
     "data": {
      "text/plain": [
       "51"
      ]
     },
     "execution_count": 88,
     "metadata": {},
     "output_type": "execute_result"
    }
   ],
   "source": [
    "# Sum of all elements\n",
    "arr4.sum()"
   ]
  },
  {
   "cell_type": "code",
   "execution_count": 93,
   "id": "1753c90b-cd21-4607-ba92-766fa452227f",
   "metadata": {},
   "outputs": [
    {
     "data": {
      "text/plain": [
       "array([24, 27])"
      ]
     },
     "execution_count": 93,
     "metadata": {},
     "output_type": "execute_result"
    }
   ],
   "source": [
    "# Sum column-wise\n",
    "arr4.sum(axis=0)"
   ]
  },
  {
   "cell_type": "code",
   "execution_count": 94,
   "id": "052b4617-dbc4-418c-80fc-01bc1800b1ae",
   "metadata": {},
   "outputs": [
    {
     "data": {
      "text/plain": [
       "8.5"
      ]
     },
     "execution_count": 94,
     "metadata": {},
     "output_type": "execute_result"
    }
   ],
   "source": [
    "# Mean\n",
    "arr4.mean()"
   ]
  },
  {
   "cell_type": "code",
   "execution_count": 95,
   "id": "cadb1694-a03c-4caa-8020-f2b517cbe856",
   "metadata": {},
   "outputs": [
    {
     "data": {
      "text/plain": [
       "1.707825127659933"
      ]
     },
     "execution_count": 95,
     "metadata": {},
     "output_type": "execute_result"
    }
   ],
   "source": [
    "# Standard deviation\n",
    "arr4.std()"
   ]
  },
  {
   "cell_type": "markdown",
   "id": "db9b1967-6a91-4858-84f2-f0a9de1dfc55",
   "metadata": {},
   "source": [
    "These operations are useful for statistical insights into the array’s values."
   ]
  },
  {
   "cell_type": "markdown",
   "id": "ec7882b5-6278-4ab5-b248-05650ee0843d",
   "metadata": {},
   "source": [
    "### Universal Functions (UFuncs)"
   ]
  },
  {
   "cell_type": "code",
   "execution_count": 96,
   "id": "77e1e4ae-f1e7-41c2-bc75-efa2ac7f31d7",
   "metadata": {},
   "outputs": [
    {
     "data": {
      "text/plain": [
       "8.5"
      ]
     },
     "execution_count": 96,
     "metadata": {},
     "output_type": "execute_result"
    }
   ],
   "source": [
    "# Median\n",
    "np.median(arr4)"
   ]
  },
  {
   "cell_type": "markdown",
   "id": "9f04742b-2153-4a04-b1df-df1acc6f957e",
   "metadata": {},
   "source": [
    "#### Trigonometric Operations"
   ]
  },
  {
   "cell_type": "code",
   "execution_count": 97,
   "id": "0821ca0f-2d48-498b-a2ce-399d6117a9fc",
   "metadata": {},
   "outputs": [
    {
     "data": {
      "text/plain": [
       "array([[-0.2794155 ,  0.6569866 ],\n",
       "       [ 0.98935825,  0.41211849],\n",
       "       [-0.54402111, -0.99999021]])"
      ]
     },
     "execution_count": 97,
     "metadata": {},
     "output_type": "execute_result"
    }
   ],
   "source": [
    "np.sin(arr4)"
   ]
  },
  {
   "cell_type": "code",
   "execution_count": 98,
   "id": "71bed721-20d5-456e-a257-0ca94ea60936",
   "metadata": {},
   "outputs": [
    {
     "data": {
      "text/plain": [
       "array([[ 0.96017029,  0.75390225],\n",
       "       [-0.14550003, -0.91113026],\n",
       "       [-0.83907153,  0.0044257 ]])"
      ]
     },
     "execution_count": 98,
     "metadata": {},
     "output_type": "execute_result"
    }
   ],
   "source": [
    "np.cos(arr4)"
   ]
  },
  {
   "cell_type": "code",
   "execution_count": 99,
   "id": "a7c60226-d2fc-43ec-9f10-00ab1b46fb93",
   "metadata": {},
   "outputs": [
    {
     "data": {
      "text/plain": [
       "array([[  -0.29100619,    0.87144798],\n",
       "       [  -6.79971146,   -0.45231566],\n",
       "       [   0.64836083, -225.95084645]])"
      ]
     },
     "execution_count": 99,
     "metadata": {},
     "output_type": "execute_result"
    }
   ],
   "source": [
    "np.tan(arr4)"
   ]
  },
  {
   "cell_type": "code",
   "execution_count": 100,
   "id": "99e2aec1-5a99-4b82-bb8b-d7c52bda149e",
   "metadata": {},
   "outputs": [
    {
     "data": {
      "text/plain": [
       "array([[  403.42879349,  1096.63315843],\n",
       "       [ 2980.95798704,  8103.08392758],\n",
       "       [22026.46579481, 59874.1417152 ]])"
      ]
     },
     "execution_count": 100,
     "metadata": {},
     "output_type": "execute_result"
    }
   ],
   "source": [
    "# Exponential\n",
    "np.exp(arr4)"
   ]
  },
  {
   "cell_type": "markdown",
   "id": "057af93b-a78a-4d9e-8cde-75288d1e569e",
   "metadata": {},
   "source": [
    "These functions operate element-wise and are highly optimized for performance. Useful in mathematical modeling and transformations."
   ]
  },
  {
   "cell_type": "markdown",
   "id": "40422867-c5ff-48a3-a313-207da3e2304d",
   "metadata": {},
   "source": [
    "### Type Conversion"
   ]
  },
  {
   "cell_type": "code",
   "execution_count": 72,
   "id": "c6b92139-292b-40da-ac34-0a93017cbd06",
   "metadata": {},
   "outputs": [
    {
     "name": "stdout",
     "output_type": "stream",
     "text": [
      "Data type: float64\n"
     ]
    }
   ],
   "source": [
    "c = np.array([1.3, 3.6, 7.5])\n",
    "print(f\"Data type: {c.dtype}\")"
   ]
  },
  {
   "cell_type": "code",
   "execution_count": 101,
   "id": "b3404bf1-9469-464a-a972-01ba46603dc0",
   "metadata": {},
   "outputs": [
    {
     "name": "stdout",
     "output_type": "stream",
     "text": [
      "Converted to int: [1 3 7]\n"
     ]
    }
   ],
   "source": [
    "# Convert to integer\n",
    "c_int = c.astype(int)\n",
    "print(f\"Converted to int: {c_int}\")"
   ]
  }
 ],
 "metadata": {
  "kernelspec": {
   "display_name": "Python 3 (ipykernel)",
   "language": "python",
   "name": "python3"
  },
  "language_info": {
   "codemirror_mode": {
    "name": "ipython",
    "version": 3
   },
   "file_extension": ".py",
   "mimetype": "text/x-python",
   "name": "python",
   "nbconvert_exporter": "python",
   "pygments_lexer": "ipython3",
   "version": "3.11.9"
  }
 },
 "nbformat": 4,
 "nbformat_minor": 5
}
