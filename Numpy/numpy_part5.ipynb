{
 "cells": [
  {
   "cell_type": "markdown",
   "id": "bb7f48e8-d9f7-4822-a26c-52cb77e32cfb",
   "metadata": {},
   "source": [
    "# Broadcasting\n",
    "The term broadcasting refers to the ability of NumPy to treat arrays of different shapes during arithmetic operations. Arithmetic operations on arrays are usually done on corresponding elements. If two arrays are of exactly the same shape, then these operations are smoothly performed.\n",
    "If the dimensions of two arrays are dissimilar, element-to-element operations are not possible. However, operations on arrays of non-similar shapes is still possible in NumPy, because of the broadcasting capability. The smaller array is broadcast to the size of the large array so that they have compatible shapes.\n"
   ]
  },
  {
   "cell_type": "markdown",
   "id": "e0696161-bfe4-41a5-8df3-0b04821cbfde",
   "metadata": {},
   "source": [
    "![Broadcasting](./images/numpy-broadcasting.png)"
   ]
  },
  {
   "cell_type": "code",
   "execution_count": 3,
   "id": "9d212c36-e8d2-4398-bcb2-ab8ccad13b0b",
   "metadata": {},
   "outputs": [],
   "source": [
    "import numpy as np"
   ]
  },
  {
   "cell_type": "code",
   "execution_count": 5,
   "id": "fde7d819-24da-4efa-a8e3-53f5963bd843",
   "metadata": {},
   "outputs": [
    {
     "name": "stdout",
     "output_type": "stream",
     "text": [
      "[[0 1 2 3]\n",
      " [4 5 6 7]]\n",
      "[[ 8  9 10 11]\n",
      " [12 13 14 15]]\n"
     ]
    }
   ],
   "source": [
    "# Scenario 1\n",
    "\n",
    "arr1 = np.arange(8).reshape(2, 4)\n",
    "arr2 = np.arange(8, 16).reshape(2, 4)\n",
    "\n",
    "print(arr1)\n",
    "print(arr2)"
   ]
  },
  {
   "cell_type": "code",
   "execution_count": 6,
   "id": "a0a1ceef-ed79-417f-8261-9d47deddc2d8",
   "metadata": {},
   "outputs": [
    {
     "data": {
      "text/plain": [
       "array([[ 8, 10, 12, 14],\n",
       "       [16, 18, 20, 22]])"
      ]
     },
     "execution_count": 6,
     "metadata": {},
     "output_type": "execute_result"
    }
   ],
   "source": [
    "arr1 + arr2"
   ]
  },
  {
   "cell_type": "code",
   "execution_count": 9,
   "id": "e5ebcc9b-a548-4ca5-b007-46c500fa20db",
   "metadata": {},
   "outputs": [
    {
     "name": "stdout",
     "output_type": "stream",
     "text": [
      "[[0 1 2]\n",
      " [3 4 5]\n",
      " [6 7 8]]\n",
      "[[0 1 2]]\n"
     ]
    }
   ],
   "source": [
    "# Scenario 2\n",
    "arr3 = np.arange(9).reshape(3, 3)\n",
    "arr4 = np.arange(3).reshape(1, 3)\n",
    "\n",
    "print(arr3)\n",
    "print(arr4)"
   ]
  },
  {
   "cell_type": "code",
   "execution_count": 10,
   "id": "09b5d0e1-d656-46df-b109-cb5d3fe64627",
   "metadata": {},
   "outputs": [
    {
     "data": {
      "text/plain": [
       "array([[ 0,  2,  4],\n",
       "       [ 3,  5,  7],\n",
       "       [ 6,  8, 10]])"
      ]
     },
     "execution_count": 10,
     "metadata": {},
     "output_type": "execute_result"
    }
   ],
   "source": [
    "arr3 + arr4"
   ]
  },
  {
   "cell_type": "markdown",
   "id": "42227cc0-53fa-483c-8db1-e53aea73580e",
   "metadata": {},
   "source": [
    "### Rules for Broadcasting"
   ]
  },
  {
   "cell_type": "code",
   "execution_count": 11,
   "id": "86a900c4-411e-4223-adb9-9f3b9262a90b",
   "metadata": {},
   "outputs": [
    {
     "data": {
      "text/plain": [
       "array([[ 8, 10, 12, 14],\n",
       "       [16, 18, 20, 22]])"
      ]
     },
     "execution_count": 11,
     "metadata": {},
     "output_type": "execute_result"
    }
   ],
   "source": [
    "# If x=m and y=n then also operation will take place (Same Dimension)\n",
    "arr1 = np.arange(8).reshape(2, 4)\n",
    "arr2 = np.arange(8, 16).reshape(2, 4)\n",
    "\n",
    "arr1 + arr2"
   ]
  },
  {
   "cell_type": "code",
   "execution_count": 15,
   "id": "800a6f01-133a-45d9-a3fa-f5a701338438",
   "metadata": {},
   "outputs": [
    {
     "name": "stdout",
     "output_type": "stream",
     "text": [
      "[[0 1 2]]\n",
      "[[ 0  1  2]\n",
      " [ 3  4  5]\n",
      " [ 6  7  8]\n",
      " [ 9 10 11]]\n"
     ]
    }
   ],
   "source": [
    "# If x=1 and y=n then also operation will take place (Same Dimension)\n",
    "\n",
    "arr5 = np.arange(3).reshape(1, 3)\n",
    "arr6 = np.arange(12).reshape(4, 3)\n",
    "\n",
    "print(arr5)\n",
    "print(arr6)"
   ]
  },
  {
   "cell_type": "code",
   "execution_count": 14,
   "id": "366489c1-d941-4cf6-ac9b-c35446b41c92",
   "metadata": {},
   "outputs": [
    {
     "data": {
      "text/plain": [
       "array([[ 0,  2,  4],\n",
       "       [ 3,  5,  7],\n",
       "       [ 6,  8, 10],\n",
       "       [ 9, 11, 13]])"
      ]
     },
     "execution_count": 14,
     "metadata": {},
     "output_type": "execute_result"
    }
   ],
   "source": [
    "arr5 + arr6"
   ]
  },
  {
   "cell_type": "code",
   "execution_count": 19,
   "id": "bf2cb581-f063-4070-bd53-95b29e3178f0",
   "metadata": {},
   "outputs": [
    {
     "name": "stdout",
     "output_type": "stream",
     "text": [
      "[[0]\n",
      " [1]\n",
      " [2]\n",
      " [3]]\n",
      "[[ 0  1  2]\n",
      " [ 3  4  5]\n",
      " [ 6  7  8]\n",
      " [ 9 10 11]]\n"
     ]
    }
   ],
   "source": [
    "# If y=1 and x=m then also operation will take place, \n",
    "# even if they are not of the same dimension\n",
    "\n",
    "arr7 = np.arange(4).reshape(4, 1)\n",
    "arr8 = np.arange(12).reshape(4, 3)\n",
    "\n",
    "print(arr7)\n",
    "print(arr8)"
   ]
  },
  {
   "cell_type": "code",
   "execution_count": 20,
   "id": "30962e65-ebc0-4292-bcde-ab2fa50d784a",
   "metadata": {},
   "outputs": [
    {
     "data": {
      "text/plain": [
       "array([[ 0,  1,  2],\n",
       "       [ 4,  5,  6],\n",
       "       [ 8,  9, 10],\n",
       "       [12, 13, 14]])"
      ]
     },
     "execution_count": 20,
     "metadata": {},
     "output_type": "execute_result"
    }
   ],
   "source": [
    "arr7 + arr8"
   ]
  },
  {
   "cell_type": "code",
   "execution_count": 22,
   "id": "43b31908-732a-45b3-82a5-4e9ce6940660",
   "metadata": {},
   "outputs": [
    {
     "name": "stdout",
     "output_type": "stream",
     "text": [
      "[[0 1 2]]\n",
      "[[ 0  1  2  3]\n",
      " [ 4  5  6  7]\n",
      " [ 8  9 10 11]\n",
      " [12 13 14 15]]\n"
     ]
    }
   ],
   "source": [
    "# If x=1 and y!=n then also operation will not take place\n",
    "\n",
    "arr9 = np.arange(3).reshape(1, 3)\n",
    "arr10 = np.arange(16).reshape(4, 4)\n",
    "\n",
    "print(arr9)\n",
    "print(arr10)"
   ]
  },
  {
   "cell_type": "code",
   "execution_count": 23,
   "id": "84544c46-18a5-4f81-8cd2-f7a923f0d2aa",
   "metadata": {},
   "outputs": [
    {
     "ename": "ValueError",
     "evalue": "operands could not be broadcast together with shapes (1,3) (4,4) ",
     "output_type": "error",
     "traceback": [
      "\u001b[1;31m---------------------------------------------------------------------------\u001b[0m",
      "\u001b[1;31mValueError\u001b[0m                                Traceback (most recent call last)",
      "Cell \u001b[1;32mIn[23], line 1\u001b[0m\n\u001b[1;32m----> 1\u001b[0m \u001b[43marr9\u001b[49m\u001b[43m \u001b[49m\u001b[38;5;241;43m+\u001b[39;49m\u001b[43m \u001b[49m\u001b[43marr10\u001b[49m\n",
      "\u001b[1;31mValueError\u001b[0m: operands could not be broadcast together with shapes (1,3) (4,4) "
     ]
    }
   ],
   "source": [
    "arr9 + arr10 # Study the Error"
   ]
  },
  {
   "cell_type": "code",
   "execution_count": 24,
   "id": "42e9ddc5-191d-4536-a581-a0eac7d06a9f",
   "metadata": {},
   "outputs": [
    {
     "name": "stdout",
     "output_type": "stream",
     "text": [
      "[[0 1 2]]\n",
      "[[0]\n",
      " [1]\n",
      " [2]]\n"
     ]
    }
   ],
   "source": [
    "# If x=1 and n=1 then y==m, operation to take place\n",
    "\n",
    "arr11 = np.arange(3).reshape(1, 3)\n",
    "arr12 = np.arange(3).reshape(3, 1)\n",
    "\n",
    "print(arr11)\n",
    "print(arr12)"
   ]
  },
  {
   "cell_type": "code",
   "execution_count": 25,
   "id": "551594a6-701e-4598-9b8f-a3b47e6bc37a",
   "metadata": {},
   "outputs": [
    {
     "data": {
      "text/plain": [
       "array([[0, 1, 2],\n",
       "       [1, 2, 3],\n",
       "       [2, 3, 4]])"
      ]
     },
     "execution_count": 25,
     "metadata": {},
     "output_type": "execute_result"
    }
   ],
   "source": [
    "arr11 + arr12"
   ]
  },
  {
   "cell_type": "code",
   "execution_count": 26,
   "id": "4c4e02c2-aade-4239-a36d-0930dbe6ea8f",
   "metadata": {},
   "outputs": [
    {
     "name": "stdout",
     "output_type": "stream",
     "text": [
      "[[0]]\n",
      "[[ 0  1  2  3  4]\n",
      " [ 5  6  7  8  9]\n",
      " [10 11 12 13 14]\n",
      " [15 16 17 18 19]]\n"
     ]
    }
   ],
   "source": [
    "# If x=1 and y=1, then the operation will take place no matter what\n",
    "\n",
    "arr13 = np.arange(1).reshape(1, 1)\n",
    "arr14 = np.arange(20). reshape(4, 5)\n",
    "\n",
    "print(arr13)\n",
    "print(arr14)"
   ]
  },
  {
   "cell_type": "code",
   "execution_count": 27,
   "id": "055eec07-b422-4440-9742-a5f19573ce91",
   "metadata": {},
   "outputs": [
    {
     "data": {
      "text/plain": [
       "array([[ 0,  1,  2,  3,  4],\n",
       "       [ 5,  6,  7,  8,  9],\n",
       "       [10, 11, 12, 13, 14],\n",
       "       [15, 16, 17, 18, 19]])"
      ]
     },
     "execution_count": 27,
     "metadata": {},
     "output_type": "execute_result"
    }
   ],
   "source": [
    "arr13 + arr14"
   ]
  },
  {
   "cell_type": "code",
   "execution_count": 29,
   "id": "88825a2b-8790-46d0-97a0-26de84ae8c1f",
   "metadata": {},
   "outputs": [
    {
     "name": "stdout",
     "output_type": "stream",
     "text": [
      "[0 1 2 3]\n",
      "[[ 0  1  2  3]\n",
      " [ 4  5  6  7]\n",
      " [ 8  9 10 11]\n",
      " [12 13 14 15]\n",
      " [16 17 18 19]]\n"
     ]
    }
   ],
   "source": [
    "# If they are of different dimensions\n",
    "\n",
    "arr15 = np.arange(4)\n",
    "arr16 = np.arange(20).reshape(5, 4)\n",
    "\n",
    "print(arr15)\n",
    "print(arr16)"
   ]
  },
  {
   "cell_type": "code",
   "execution_count": 30,
   "id": "ea4c2f0f-7b71-40e2-a446-bb6e635405c6",
   "metadata": {},
   "outputs": [
    {
     "data": {
      "text/plain": [
       "array([[ 0,  2,  4,  6],\n",
       "       [ 4,  6,  8, 10],\n",
       "       [ 8, 10, 12, 14],\n",
       "       [12, 14, 16, 18],\n",
       "       [16, 18, 20, 22]])"
      ]
     },
     "execution_count": 30,
     "metadata": {},
     "output_type": "execute_result"
    }
   ],
   "source": [
    "arr15 + arr16"
   ]
  }
 ],
 "metadata": {
  "kernelspec": {
   "display_name": "Python 3 (ipykernel)",
   "language": "python",
   "name": "python3"
  },
  "language_info": {
   "codemirror_mode": {
    "name": "ipython",
    "version": 3
   },
   "file_extension": ".py",
   "mimetype": "text/x-python",
   "name": "python",
   "nbconvert_exporter": "python",
   "pygments_lexer": "ipython3",
   "version": "3.11.9"
  }
 },
 "nbformat": 4,
 "nbformat_minor": 5
}
