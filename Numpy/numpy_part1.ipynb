{
 "cells": [
  {
   "cell_type": "markdown",
   "id": "d0ac3948-ecbb-420b-a9da-d772c5012923",
   "metadata": {},
   "source": [
    "# Introduction to NumPy"
   ]
  },
  {
   "cell_type": "markdown",
   "id": "a37e6088-7ac3-465b-b087-251d509fae08",
   "metadata": {},
   "source": [
    "## What is NumPy?\n",
    "##### NumPy (Numerical Python) is a low-level library written in **C** and **FORTRAN** for performing high-level mathematical functions efficiently in Python.\n",
    "##### It uses **multidimensional arrays** and vectorized operations to make computations much faster than standard python lists."
   ]
  },
  {
   "cell_type": "markdown",
   "id": "cf969807-7dcc-453e-8912-e1a0147ccb54",
   "metadata": {},
   "source": [
    "## Why Use NumPy?"
   ]
  },
  {
   "cell_type": "markdown",
   "id": "01f99381-4118-4c00-9cd2-26591dbe4db6",
   "metadata": {},
   "source": [
    "##### Python is inherently slower for mathematical operations due to its dynamic typing and object overhead. NumPy overcomes this limitation using:\n",
    "- Contiguous memory blocks (like C arrays)\n",
    "- Vectorized operations\n",
    "- Broadcasting capabilities"
   ]
  },
  {
   "cell_type": "markdown",
   "id": "cd73b626-5064-4062-9718-0b81c4357d6f",
   "metadata": {},
   "source": [
    "##### This makes it the **core dependency** for many other libraries in the data science and machine learning ecosystem.\n",
    "\n",
    "For example:\n",
    "- **Pandas** is built on top of NumPy\n",
    "- **Scikit-learn**, **TensorFlow**, **PyTorch**, and many others use NumPy internally\n"
   ]
  },
  {
   "cell_type": "markdown",
   "id": "8aae1e92-78df-4e9f-839d-028072dc3c7a",
   "metadata": {},
   "source": [
    "## Applications of NumPy"
   ]
  },
  {
   "cell_type": "markdown",
   "id": "dbf350e4-7f96-42c2-b6f1-bec0f8c0bc39",
   "metadata": {},
   "source": [
    "1. A powerful **N-dimensional array object** (`ndarray`)\n",
    "2. Sophisticated functions with **broadcasting** capabilities\n",
    "3. Integration with **C/C++ and FORTRAN** for performance\n",
    "4. Built-in functions for:\n",
    "   - Linear algebra\n",
    "   - Fourier transforms\n",
    "   - Random number generation\n",
    "  \n",
    "> ✅ Fun Fact: Almost every machine learning algorithm you’ll implement starts with NumPy arrays!\n"
   ]
  },
  {
   "cell_type": "markdown",
   "id": "c46619e7-4f94-4ff2-b1a4-7e8604fcc62f",
   "metadata": {},
   "source": [
    "# Creating NumPy / N-Dimensional Arrays\n",
    "In this section, we explore how to create different types of arrays using NumPy. Arrays are the core data structure in NumPy and come in 1-D, 2-D, or N-D (N-dimensional) forms."
   ]
  },
  {
   "cell_type": "markdown",
   "id": "474a14ea-ba65-486b-8819-c014a2384da1",
   "metadata": {},
   "source": [
    "## Importing NumPy and Checking Version\n",
    "Before we start working with NumPy arrays, we first need to import the library and check the version we're using."
   ]
  },
  {
   "cell_type": "code",
   "execution_count": 33,
   "id": "46124dba-0473-4037-aa43-f208018e436e",
   "metadata": {},
   "outputs": [
    {
     "name": "stdout",
     "output_type": "stream",
     "text": [
      "NumPy version: 1.26.1\n"
     ]
    }
   ],
   "source": [
    "# Importing NumPy\n",
    "import numpy as np\n",
    "\n",
    "# Check NumPy version\n",
    "print(f\"NumPy version: {np.__version__}\")"
   ]
  },
  {
   "cell_type": "markdown",
   "id": "b6dccdd2-459d-47dd-be41-6f7b28a26cdc",
   "metadata": {},
   "source": [
    "## Creating Arrays\n",
    "NumPy provides several ways to create arrays:\n",
    "\n",
    "### 1. One-Dimensional Array"
   ]
  },
  {
   "cell_type": "code",
   "execution_count": 4,
   "id": "706ada98-a58b-4274-bf72-ff693a32bcc2",
   "metadata": {},
   "outputs": [
    {
     "data": {
      "text/plain": [
       "array([1, 2, 3, 4, 5])"
      ]
     },
     "execution_count": 4,
     "metadata": {},
     "output_type": "execute_result"
    }
   ],
   "source": [
    "arr1 = np.array([1,2,3,4,5])\n",
    "arr1"
   ]
  },
  {
   "cell_type": "code",
   "execution_count": 34,
   "id": "505e6840-9646-4ed0-9ae0-e3914f287892",
   "metadata": {},
   "outputs": [
    {
     "data": {
      "text/plain": [
       "numpy.ndarray"
      ]
     },
     "execution_count": 34,
     "metadata": {},
     "output_type": "execute_result"
    }
   ],
   "source": [
    "# Checking type\n",
    "type(arr1)"
   ]
  },
  {
   "cell_type": "markdown",
   "id": "657e5729-4a52-4397-b741-cb68a597e7ff",
   "metadata": {},
   "source": [
    "### 2. Two-Dimensional Array"
   ]
  },
  {
   "cell_type": "code",
   "execution_count": 35,
   "id": "fb9d0615-ce22-4821-971f-42b5bc5318c2",
   "metadata": {},
   "outputs": [
    {
     "data": {
      "text/plain": [
       "array([[1, 2, 3],\n",
       "       [4, 5, 6]])"
      ]
     },
     "execution_count": 35,
     "metadata": {},
     "output_type": "execute_result"
    }
   ],
   "source": [
    "arr2 = np.array([[1,2,3], [4,5,6]])\n",
    "arr2"
   ]
  },
  {
   "cell_type": "markdown",
   "id": "08e7cca8-08f6-4bf5-aa78-086d6d3ffe59",
   "metadata": {},
   "source": [
    "### 3. Array of Zeros\n",
    "\n",
    "Create an array filled with zeros of a given shape."
   ]
  },
  {
   "cell_type": "code",
   "execution_count": 18,
   "id": "defa26ab-64d7-4cd5-be4c-e366d1ad5818",
   "metadata": {},
   "outputs": [
    {
     "data": {
      "text/plain": [
       "array([[0., 0., 0., 0.],\n",
       "       [0., 0., 0., 0.],\n",
       "       [0., 0., 0., 0.]])"
      ]
     },
     "execution_count": 18,
     "metadata": {},
     "output_type": "execute_result"
    }
   ],
   "source": [
    "arr3 = np.zeros((3,4))\n",
    "arr3"
   ]
  },
  {
   "cell_type": "markdown",
   "id": "bda493d8-2001-4205-9e3a-c0761e841876",
   "metadata": {},
   "source": [
    "### 4. Array of Ones\n",
    "\n",
    "Create an array filled with ones."
   ]
  },
  {
   "cell_type": "code",
   "execution_count": 36,
   "id": "bc5bac97-d171-4ccc-aa2b-eb9e9d94a1ff",
   "metadata": {},
   "outputs": [
    {
     "data": {
      "text/plain": [
       "array([[1., 1., 1.],\n",
       "       [1., 1., 1.]])"
      ]
     },
     "execution_count": 36,
     "metadata": {},
     "output_type": "execute_result"
    }
   ],
   "source": [
    "arr4 = np.ones((2,3))\n",
    "arr4"
   ]
  },
  {
   "cell_type": "markdown",
   "id": "c53dbaef-2167-4966-9e4b-011738094a74",
   "metadata": {},
   "source": [
    "### 5. Identity Matrix\n",
    "\n",
    "Creates a square identity matrix."
   ]
  },
  {
   "cell_type": "code",
   "execution_count": 37,
   "id": "d869ee35-29a1-49ef-aff0-018c4191392b",
   "metadata": {},
   "outputs": [
    {
     "data": {
      "text/plain": [
       "array([[1., 0., 0., 0.],\n",
       "       [0., 1., 0., 0.],\n",
       "       [0., 0., 1., 0.],\n",
       "       [0., 0., 0., 1.]])"
      ]
     },
     "execution_count": 37,
     "metadata": {},
     "output_type": "execute_result"
    }
   ],
   "source": [
    "arr5 = np.identity(4)\n",
    "arr5"
   ]
  },
  {
   "cell_type": "markdown",
   "id": "eb4ed242-1292-4ab5-9846-79413210654a",
   "metadata": {},
   "source": [
    "### 6. Array Using `arange()`\n",
    "\n",
    "Creates evenly spaced values within a given interval."
   ]
  },
  {
   "cell_type": "code",
   "execution_count": 38,
   "id": "6f12efcc-b39e-450a-ab10-9b81e5e47aa9",
   "metadata": {},
   "outputs": [
    {
     "name": "stdout",
     "output_type": "stream",
     "text": [
      "[0 1 2 3 4 5 6 7 8 9]\n",
      "[12 13 14 15 16 17 18 19 20 21 22 23 24]\n",
      "[10 12 14 16 18 20 22 24]\n"
     ]
    }
   ],
   "source": [
    "arr6 = np.arange(10)\n",
    "arr7 = np.arange(12,25)\n",
    "arr8 = np.arange(10, 25, 2)\n",
    "print(arr6)\n",
    "print(arr7)\n",
    "print(arr8)"
   ]
  },
  {
   "cell_type": "markdown",
   "id": "0802b012-4e07-4b14-aa4e-12ea18515ba7",
   "metadata": {},
   "source": [
    "### 7. Array Using `linspace()`\n",
    "\n",
    "Creates evenly spaced numbers over a specified interval."
   ]
  },
  {
   "cell_type": "code",
   "execution_count": 39,
   "id": "385a3995-9aad-4407-a512-d869692a31e1",
   "metadata": {},
   "outputs": [
    {
     "data": {
      "text/plain": [
       "array([10.        , 11.11111111, 12.22222222, 13.33333333, 14.44444444,\n",
       "       15.55555556, 16.66666667, 17.77777778, 18.88888889, 20.        ])"
      ]
     },
     "execution_count": 39,
     "metadata": {},
     "output_type": "execute_result"
    }
   ],
   "source": [
    "arr9 = np.linspace(10,20,10)\n",
    "arr9"
   ]
  },
  {
   "cell_type": "markdown",
   "id": "2328b523-7dbb-4b2d-8063-6c4c5e5213f0",
   "metadata": {},
   "source": [
    "### 8. Copying Arrays\n",
    "\n",
    "Use `.copy()` to make an independent copy of an array."
   ]
  },
  {
   "cell_type": "code",
   "execution_count": 32,
   "id": "f35822d1-78dc-411b-9e3b-fa7765b81846",
   "metadata": {},
   "outputs": [
    {
     "data": {
      "text/plain": [
       "array([10.        , 11.11111111, 12.22222222, 13.33333333, 14.44444444,\n",
       "       15.55555556, 16.66666667, 17.77777778, 18.88888889, 20.        ])"
      ]
     },
     "execution_count": 32,
     "metadata": {},
     "output_type": "execute_result"
    }
   ],
   "source": [
    "arr10 = arr9.copy()\n",
    "arr10"
   ]
  },
  {
   "cell_type": "markdown",
   "id": "d8d07714-1923-4083-bb34-4a6eb919bcfc",
   "metadata": {},
   "source": [
    "# NumPy Array properties and Attributes\n",
    "Understanding the internal properties of NumPy arrays helps in better memory and performance optimization."
   ]
  },
  {
   "cell_type": "markdown",
   "id": "6b810d46-93d3-4374-b0b2-ef7c65d9d6d9",
   "metadata": {},
   "source": [
    "## 🔍 Common Array Attributes\n",
    "\n",
    "1. **`shape`** – Gives the dimensions (rows, columns, etc.) of the array  \n",
    "2. **`ndim`** – Number of dimensions (axes)  \n",
    "3. **`size`** – Total number of elements in the array  \n",
    "4. **`itemsize`** – Size (in bytes) of each element  \n",
    "5. **`dtype`** – Data type of array elements  \n",
    "6. **`astype()`** – Convert array to a different data type\n",
    "\n",
    "---\n",
    "\n",
    "Let's explore each of them with examples:"
   ]
  },
  {
   "cell_type": "markdown",
   "id": "e40a3d61-7882-44c2-9073-cfae94396ac6",
   "metadata": {},
   "source": [
    "### 🔢 1D, 2D, and 3D Arrays"
   ]
  },
  {
   "cell_type": "code",
   "execution_count": 64,
   "id": "b5077191-78b2-4515-a35f-23381b89c021",
   "metadata": {},
   "outputs": [],
   "source": [
    "arr1 = np.array([1, 2, 3, 4, 5])  # 1D Array\n",
    "arr2 = np.array([[1, 2, 3], [4, 55, 6]])  # 2D Array\n",
    "arr3 = np.array([[[1, 2], [3, 4]], [[5, 6], [7, 8]]])  # #D Array"
   ]
  },
  {
   "cell_type": "markdown",
   "id": "9afd1440-ac53-4832-80a5-e6ed6ce873ea",
   "metadata": {},
   "source": [
    "### Shape of Arrays"
   ]
  },
  {
   "cell_type": "code",
   "execution_count": 65,
   "id": "03697f2d-ae47-4024-9c60-7032b55d9a59",
   "metadata": {},
   "outputs": [
    {
     "name": "stdout",
     "output_type": "stream",
     "text": [
      "Shape of arr1: (5,)\n",
      "Shape of arr2: (2, 3)\n",
      "Shape of arr3: (2, 2, 2)\n"
     ]
    }
   ],
   "source": [
    "print(f\"Shape of arr1: {arr1.shape}\")\n",
    "print(f\"Shape of arr2: {arr2.shape}\")\n",
    "print(f\"Shape of arr3: {arr3.shape}\")"
   ]
  },
  {
   "cell_type": "markdown",
   "id": "2369e5ce-53f8-45bc-8d5f-5f34004b0c55",
   "metadata": {},
   "source": [
    "### Number of Dimensions"
   ]
  },
  {
   "cell_type": "code",
   "execution_count": 67,
   "id": "0d8ee1e4-59e0-4fc5-8459-7012bd4477ae",
   "metadata": {},
   "outputs": [
    {
     "name": "stdout",
     "output_type": "stream",
     "text": [
      "Dimensions of arr1: 1\n",
      "Dimensions of arr2: 2\n",
      "Dimensions of arr3: 3\n"
     ]
    }
   ],
   "source": [
    "print(f\"Dimensions of arr1: {arr1.ndim}\")\n",
    "print(f\"Dimensions of arr2: {arr2.ndim}\")\n",
    "print(f\"Dimensions of arr3: {arr3.ndim}\")"
   ]
  },
  {
   "cell_type": "markdown",
   "id": "ccd3da69-f66d-4e78-9e9a-6a0e87f8b551",
   "metadata": {},
   "source": [
    "### Total Number of Elements"
   ]
  },
  {
   "cell_type": "code",
   "execution_count": 69,
   "id": "d3ee74a8-f571-4b7f-986d-6d658e76ecee",
   "metadata": {},
   "outputs": [
    {
     "name": "stdout",
     "output_type": "stream",
     "text": [
      "Size of arr1: 5\n",
      "Size of arr2: 6\n",
      "Size of arr3: 8\n"
     ]
    }
   ],
   "source": [
    "print(f\"Size of arr1: {arr1.size}\")\n",
    "print(f\"Size of arr2: {arr2.size}\")\n",
    "print(f\"Size of arr3: {arr3.size}\")"
   ]
  },
  {
   "cell_type": "markdown",
   "id": "c684a81a-747d-4fca-b141-4d9326b9077c",
   "metadata": {},
   "source": [
    "### Data Types of Arrays"
   ]
  },
  {
   "cell_type": "code",
   "execution_count": 72,
   "id": "3bb6aa09-5746-4c92-ba71-1013b9d3726a",
   "metadata": {},
   "outputs": [
    {
     "name": "stdout",
     "output_type": "stream",
     "text": [
      "Data type of arr1: float64\n",
      "Data type of arr2: float64\n",
      "Data type of arr3: int32\n"
     ]
    }
   ],
   "source": [
    "print(\"Data type of arr1:\", arr9.dtype)\n",
    "print(\"Data type of arr2:\", arr10.dtype)\n",
    "print(\"Data type of arr3:\", arr11.dtype)"
   ]
  },
  {
   "cell_type": "markdown",
   "id": "6f6a4493-3a3c-4982-91e1-55ee367eb21c",
   "metadata": {},
   "source": [
    "### Memory Size per Element"
   ]
  },
  {
   "cell_type": "code",
   "execution_count": 73,
   "id": "7c40b1e6-2ccf-45b2-8c12-9d6889da2330",
   "metadata": {},
   "outputs": [
    {
     "name": "stdout",
     "output_type": "stream",
     "text": [
      "Item size of arr11 (int32): 4\n",
      "Item size of arr9 (float64): 8\n"
     ]
    }
   ],
   "source": [
    "print(\"Item size of arr11 (int32):\", arr11.itemsize)\n",
    "print(\"Item size of arr9 (float64):\", arr9.itemsize)"
   ]
  },
  {
   "cell_type": "markdown",
   "id": "095e798a-d48c-4350-ad8d-2227e7378fb9",
   "metadata": {},
   "source": [
    "### Changing Data Type using `astype()`"
   ]
  },
  {
   "cell_type": "code",
   "execution_count": 75,
   "id": "2b74400c-1875-4e6c-aa0f-ecbda650aa2c",
   "metadata": {},
   "outputs": [
    {
     "name": "stdout",
     "output_type": "stream",
     "text": [
      "[[[1. 2.]\n",
      "  [3. 4.]]\n",
      "\n",
      " [[5. 6.]\n",
      "  [7. 8.]]]\n"
     ]
    }
   ],
   "source": [
    "arr_float = arr11.astype('float')\n",
    "print(arr_float)"
   ]
  },
  {
   "cell_type": "markdown",
   "id": "524383a5-6e31-426d-8dba-01035409863a",
   "metadata": {},
   "source": [
    "---"
   ]
  },
  {
   "cell_type": "markdown",
   "id": "662336ed-563e-47f6-a0d5-0815592fc791",
   "metadata": {},
   "source": [
    "# Python Lists vs NumPy Arrays\n",
    "\n",
    "When working with large numerical datasets, using NumPy arrays instead of Python lists has several advantages.\n",
    "\n",
    "---\n",
    "\n",
    "## Why Use NumPy Arrays Over Lists?\n",
    "\n",
    "1. **Faster Execution**  \n",
    "   NumPy uses optimized C libraries for computations.\n",
    "\n",
    "2. **Convenient Syntax**  \n",
    "   Operations like addition, multiplication, and broadcasting are simpler and vectorized.\n",
    "\n",
    "3. **Less Memory Usage**  \n",
    "   NumPy arrays consume less memory compared to lists due to fixed data types and contiguous memory blocks.\n",
    "\n",
    "---\n",
    "\n",
    "Let’s explore these differences with examples."
   ]
  },
  {
   "cell_type": "markdown",
   "id": "097db845-08db-48a7-8392-7d2c521cbec2",
   "metadata": {},
   "source": [
    "### Memory Usage Comparison"
   ]
  },
  {
   "cell_type": "code",
   "execution_count": 76,
   "id": "08e005e0-001d-47d1-a7a2-536a22eb52fd",
   "metadata": {},
   "outputs": [],
   "source": [
    "import numpy as np\n",
    "import sys\n",
    "\n",
    "list_a = range(100)\n",
    "arr12 = np.arange(100)"
   ]
  },
  {
   "cell_type": "code",
   "execution_count": 77,
   "id": "a7e92a99-c225-45b2-8a9a-ba37097592ad",
   "metadata": {},
   "outputs": [
    {
     "name": "stdout",
     "output_type": "stream",
     "text": [
      "Memory used by list_a: 2800\n"
     ]
    }
   ],
   "source": [
    "# Memory used by Python list\n",
    "print(\"Memory used by list_a:\", sys.getsizeof(87) * len(list_a))  # size of int * 100"
   ]
  },
  {
   "cell_type": "code",
   "execution_count": 78,
   "id": "0cbe11d9-61dd-42a0-8c37-ddd080274162",
   "metadata": {},
   "outputs": [
    {
     "name": "stdout",
     "output_type": "stream",
     "text": [
      "Memory used by arr12: 400\n"
     ]
    }
   ],
   "source": [
    "# Memory used by NumPy array\n",
    "print(\"Memory used by arr12:\", arr12.itemsize * arr12.size)"
   ]
  },
  {
   "cell_type": "markdown",
   "id": "7166c4fd-032b-4f26-a99f-0ca036d1d557",
   "metadata": {},
   "source": [
    "### Speed Comparison"
   ]
  },
  {
   "cell_type": "code",
   "execution_count": 79,
   "id": "8ef3dff5-bf19-4bc7-9eff-3da26eb3929e",
   "metadata": {},
   "outputs": [],
   "source": [
    "import time  # Importing the time module"
   ]
  },
  {
   "cell_type": "code",
   "execution_count": 82,
   "id": "86c8da1b-7803-436c-9fc1-5680d94f7b7e",
   "metadata": {},
   "outputs": [
    {
     "name": "stdout",
     "output_type": "stream",
     "text": [
      "Execution time using lists: 0.014124155044555664\n"
     ]
    }
   ],
   "source": [
    "# Python lists\n",
    "x = range(100_000)\n",
    "y = range(100_000, 200_000)\n",
    "\n",
    "start_time = time.time()\n",
    "c = [i + j for i, j in zip(x, y)]\n",
    "print(f\"Execution time using lists: {time.time() - start_time}\")"
   ]
  },
  {
   "cell_type": "code",
   "execution_count": 83,
   "id": "4da7b5a2-47a6-4c05-984f-1965769b0c1f",
   "metadata": {},
   "outputs": [
    {
     "name": "stdout",
     "output_type": "stream",
     "text": [
      "Execution time using NumPy: 0.0009942054748535156\n"
     ]
    }
   ],
   "source": [
    "# NumPy arrays\n",
    "a = np.arange(100_000)\n",
    "b = np.arange(100_000, 200_000)\n",
    "\n",
    "start_time = time.time()\n",
    "c = a + b\n",
    "print(f\"Execution time using NumPy: {time.time() - start_time}\")"
   ]
  },
  {
   "cell_type": "markdown",
   "id": "624f9d2c-d78d-419e-8c8a-071262204f56",
   "metadata": {},
   "source": [
    "#### let's use some bigger number too see the effected time gap\n",
    "Using `100_000_000` and `200_000_000` "
   ]
  },
  {
   "cell_type": "code",
   "execution_count": 86,
   "id": "6340745b-5b6e-4bb3-a805-389f1a753e75",
   "metadata": {},
   "outputs": [
    {
     "name": "stdout",
     "output_type": "stream",
     "text": [
      "Execution time using lists: 14.459115743637085\n"
     ]
    }
   ],
   "source": [
    "# Python lists\n",
    "x = range(100_000_000)\n",
    "y = range(100_000_000, 200_000_000)\n",
    "\n",
    "start_time = time.time()\n",
    "c = [i + j for i, j in zip(x, y)]\n",
    "print(f\"Execution time using lists: {time.time() - start_time}\")"
   ]
  },
  {
   "cell_type": "code",
   "execution_count": 87,
   "id": "4406486c-2d64-4578-864f-9d9221aec8dd",
   "metadata": {},
   "outputs": [
    {
     "name": "stdout",
     "output_type": "stream",
     "text": [
      "Execution time using NumPy: 10.14659333229065\n"
     ]
    }
   ],
   "source": [
    "# NumPy arrays\n",
    "a = np.arange(100_000_000)\n",
    "b = np.arange(100_000_000, 200_000_000)\n",
    "\n",
    "start_time = time.time()\n",
    "c = a + b\n",
    "print(f\"Execution time using NumPy: {time.time() - start_time}\")"
   ]
  },
  {
   "cell_type": "markdown",
   "id": "feb1b44f-c14d-4a9a-836e-d3e55759468c",
   "metadata": {},
   "source": [
    "---"
   ]
  },
  {
   "cell_type": "markdown",
   "id": "792a04cb-2a55-414e-b9d9-0255ca4e0fef",
   "metadata": {},
   "source": [
    "# 🔎 Indexing, Slicing, and Iteration in NumPy\n",
    "\n",
    "Once you’ve created arrays, you'll often need to access, modify, or loop through elements. NumPy provides powerful tools for:\n",
    "\n",
    "- Indexing: Accessing specific elements\n",
    "- Slicing: Extracting sub-arrays\n",
    "- Iteration: Looping through arrays\n",
    "\n",
    "Let’s go through each of these step-by-step using a `6x4` array.\n",
    "\n",
    "---"
   ]
  },
  {
   "cell_type": "markdown",
   "id": "40c6806b-14eb-4f83-b37e-69bfcea03efc",
   "metadata": {},
   "source": [
    "### Creating a 6x4 Array"
   ]
  },
  {
   "cell_type": "code",
   "execution_count": 112,
   "id": "08306e82-9024-4d97-99c1-5daac26c6708",
   "metadata": {},
   "outputs": [
    {
     "data": {
      "text/plain": [
       "array([[ 0,  1,  2,  3],\n",
       "       [ 4,  5,  6,  7],\n",
       "       [ 8,  9, 10, 11],\n",
       "       [12, 13, 14, 15],\n",
       "       [16, 17, 18, 19],\n",
       "       [20, 21, 22, 23]])"
      ]
     },
     "execution_count": 112,
     "metadata": {},
     "output_type": "execute_result"
    }
   ],
   "source": [
    "arr12 = np.arange(24).reshape(6, 4)\n",
    "arr12"
   ]
  },
  {
   "cell_type": "markdown",
   "id": "5e43b5d6-57e9-426d-916b-c00b06c97356",
   "metadata": {},
   "source": [
    "### Indexing Rows"
   ]
  },
  {
   "cell_type": "code",
   "execution_count": 113,
   "id": "b11639bf-f725-48cc-ab37-56d24eaad624",
   "metadata": {},
   "outputs": [
    {
     "data": {
      "text/plain": [
       "array([ 8,  9, 10, 11])"
      ]
     },
     "execution_count": 113,
     "metadata": {},
     "output_type": "execute_result"
    }
   ],
   "source": [
    "# Access the 3rd row (index 2)\n",
    "arr12[2]"
   ]
  },
  {
   "cell_type": "markdown",
   "id": "ee9bfaf5-cf42-499e-b5b0-36b7d5aad01a",
   "metadata": {},
   "source": [
    "### Slicing Rows"
   ]
  },
  {
   "cell_type": "code",
   "execution_count": 114,
   "id": "8f975219-d760-4eb4-8c08-4e3fd73b24a1",
   "metadata": {},
   "outputs": [
    {
     "data": {
      "text/plain": [
       "array([[0, 1, 2, 3],\n",
       "       [4, 5, 6, 7]])"
      ]
     },
     "execution_count": 114,
     "metadata": {},
     "output_type": "execute_result"
    }
   ],
   "source": [
    "# First 2 rows\n",
    "arr12[:2]"
   ]
  },
  {
   "cell_type": "code",
   "execution_count": 115,
   "id": "b71ed46a-8845-4f8f-9082-a79372d40256",
   "metadata": {},
   "outputs": [
    {
     "data": {
      "text/plain": [
       "array([[ 0,  1,  2,  3],\n",
       "       [ 4,  5,  6,  7],\n",
       "       [ 8,  9, 10, 11],\n",
       "       [12, 13, 14, 15],\n",
       "       [16, 17, 18, 19],\n",
       "       [20, 21, 22, 23]])"
      ]
     },
     "execution_count": 115,
     "metadata": {},
     "output_type": "execute_result"
    }
   ],
   "source": [
    "## All rows (deep copy)\n",
    "arr12[:]"
   ]
  },
  {
   "cell_type": "markdown",
   "id": "2e3f8ac0-73d8-4318-98b4-2e270bc5bc5f",
   "metadata": {},
   "source": [
    "### Column Indexing and Slicing"
   ]
  },
  {
   "cell_type": "code",
   "execution_count": 116,
   "id": "8bd5ee56-086e-4b67-a769-e25ae823615e",
   "metadata": {},
   "outputs": [
    {
     "data": {
      "text/plain": [
       "array([ 2,  6, 10, 14, 18, 22])"
      ]
     },
     "execution_count": 116,
     "metadata": {},
     "output_type": "execute_result"
    }
   ],
   "source": [
    "# All rows, 3rd column\n",
    "arr12[:, 2]"
   ]
  },
  {
   "cell_type": "code",
   "execution_count": 117,
   "id": "dd0cee3f-6a2d-4e25-80d9-74a672edaa34",
   "metadata": {},
   "outputs": [
    {
     "data": {
      "text/plain": [
       "array([[ 2],\n",
       "       [ 6],\n",
       "       [10],\n",
       "       [14],\n",
       "       [18],\n",
       "       [22]])"
      ]
     },
     "execution_count": 117,
     "metadata": {},
     "output_type": "execute_result"
    }
   ],
   "source": [
    "# All rows, 3rd column but keep it 2D\n",
    "arr12[:, 2:3]"
   ]
  },
  {
   "cell_type": "code",
   "execution_count": 118,
   "id": "d80be711-1d76-4799-b5a9-921e8bb3e54c",
   "metadata": {},
   "outputs": [
    {
     "data": {
      "text/plain": [
       "array([[ 1,  2],\n",
       "       [ 5,  6],\n",
       "       [ 9, 10],\n",
       "       [13, 14],\n",
       "       [17, 18],\n",
       "       [21, 22]])"
      ]
     },
     "execution_count": 118,
     "metadata": {},
     "output_type": "execute_result"
    }
   ],
   "source": [
    "# All rows, columns 2 to 3\n",
    "arr12[:, 1:3]"
   ]
  },
  {
   "cell_type": "markdown",
   "id": "13fa9be9-71ef-45bf-821f-9a2b44e9c5d2",
   "metadata": {},
   "source": [
    "### Subarray Extraction (Matrix Slicing)"
   ]
  },
  {
   "cell_type": "code",
   "execution_count": 119,
   "id": "3153f658-a595-47b8-89c0-209b7559bd20",
   "metadata": {},
   "outputs": [
    {
     "data": {
      "text/plain": [
       "array([[ 9, 10],\n",
       "       [13, 14]])"
      ]
     },
     "execution_count": 119,
     "metadata": {},
     "output_type": "execute_result"
    }
   ],
   "source": [
    "# Rows 3 & 4, Columns 2 & 3\n",
    "arr12[2:4, 1:3]"
   ]
  },
  {
   "cell_type": "code",
   "execution_count": 120,
   "id": "546dbc36-19e0-40d8-81db-bfcd82ed78a8",
   "metadata": {},
   "outputs": [
    {
     "data": {
      "text/plain": [
       "array([[18, 19],\n",
       "       [22, 23]])"
      ]
     },
     "execution_count": 120,
     "metadata": {},
     "output_type": "execute_result"
    }
   ],
   "source": [
    "# Last two rows, last two columns\n",
    "arr12[4:6, 2:4]"
   ]
  },
  {
   "cell_type": "markdown",
   "id": "847abfc8-5aa6-4182-bcba-323c45a405c8",
   "metadata": {},
   "source": [
    "### Iterating Over Rows"
   ]
  },
  {
   "cell_type": "code",
   "execution_count": 121,
   "id": "804e058c-b9e1-4d87-946a-081a5023ec63",
   "metadata": {},
   "outputs": [
    {
     "name": "stdout",
     "output_type": "stream",
     "text": [
      "[0 1 2 3]\n",
      "[4 5 6 7]\n",
      "[ 8  9 10 11]\n",
      "[12 13 14 15]\n",
      "[16 17 18 19]\n",
      "[20 21 22 23]\n"
     ]
    }
   ],
   "source": [
    "# Row-wise iteration\n",
    "for row in arr12:\n",
    "    print(row)"
   ]
  },
  {
   "cell_type": "markdown",
   "id": "7108970a-abdf-4a1f-a260-18692b0f89e3",
   "metadata": {},
   "source": [
    "### Iterating over all Elements"
   ]
  },
  {
   "cell_type": "code",
   "execution_count": 122,
   "id": "51ce7271-0ea3-4364-98be-f3502d520786",
   "metadata": {},
   "outputs": [
    {
     "name": "stdout",
     "output_type": "stream",
     "text": [
      "0\n",
      "1\n",
      "2\n",
      "3\n",
      "4\n",
      "5\n",
      "6\n",
      "7\n",
      "8\n",
      "9\n",
      "10\n",
      "11\n",
      "12\n",
      "13\n",
      "14\n",
      "15\n",
      "16\n",
      "17\n",
      "18\n",
      "19\n",
      "20\n",
      "21\n",
      "22\n",
      "23\n"
     ]
    }
   ],
   "source": [
    "# Element-wise iteration\n",
    "for elem in np.nditer(arr12):\n",
    "    print(elem)"
   ]
  }
 ],
 "metadata": {
  "kernelspec": {
   "display_name": "Python 3 (ipykernel)",
   "language": "python",
   "name": "python3"
  },
  "language_info": {
   "codemirror_mode": {
    "name": "ipython",
    "version": 3
   },
   "file_extension": ".py",
   "mimetype": "text/x-python",
   "name": "python",
   "nbconvert_exporter": "python",
   "pygments_lexer": "ipython3",
   "version": "3.11.9"
  }
 },
 "nbformat": 4,
 "nbformat_minor": 5
}
