{
 "cells": [
  {
   "cell_type": "markdown",
   "id": "af3e3edd-4206-43d2-b372-0d2aa1c8395f",
   "metadata": {},
   "source": [
    "# 📘 Section: Reshaping, Stacking, Splitting & Indexing in NumPy"
   ]
  },
  {
   "cell_type": "markdown",
   "id": "954255f0-66fb-412c-a24e-f37ad3065d3d",
   "metadata": {},
   "source": [
    "### 🔄 1. Reshaping NumPy Arrays"
   ]
  },
  {
   "cell_type": "code",
   "execution_count": 2,
   "id": "a379a2fb-d108-41bf-9c39-b1b18cfa4e08",
   "metadata": {},
   "outputs": [],
   "source": [
    "import numpy as np"
   ]
  },
  {
   "cell_type": "code",
   "execution_count": 3,
   "id": "8cc96faf-e988-4a2e-be2a-460703807df8",
   "metadata": {},
   "outputs": [],
   "source": [
    "arr4 = np.array([[6, 7], [8, 9], [10, 11]])"
   ]
  },
  {
   "cell_type": "markdown",
   "id": "22c5d9f2-c7e1-4612-b999-ac63d4f43ee0",
   "metadata": {},
   "source": [
    "We start with a 2D array of shape (3, 2)."
   ]
  },
  {
   "cell_type": "code",
   "execution_count": 4,
   "id": "eb28f937-1e39-4214-9cec-6fc06d70a14f",
   "metadata": {},
   "outputs": [
    {
     "data": {
      "text/plain": [
       "2"
      ]
     },
     "execution_count": 4,
     "metadata": {},
     "output_type": "execute_result"
    }
   ],
   "source": [
    "arr4.ndim"
   ]
  },
  {
   "cell_type": "markdown",
   "id": "d75d3b3e-afec-4d96-8a4d-59ce954aebdd",
   "metadata": {},
   "source": [
    "Returns the number of dimensions: `2` (indicating a matrix)"
   ]
  },
  {
   "cell_type": "markdown",
   "id": "d62d46d7-dc95-462c-a843-dcff50665027",
   "metadata": {},
   "source": [
    "#### 1. `ravel()` - Flatten the Array"
   ]
  },
  {
   "cell_type": "code",
   "execution_count": 5,
   "id": "fa533a57-e889-423d-b6f4-2303fd56afd3",
   "metadata": {},
   "outputs": [
    {
     "data": {
      "text/plain": [
       "array([ 6,  7,  8,  9, 10, 11])"
      ]
     },
     "execution_count": 5,
     "metadata": {},
     "output_type": "execute_result"
    }
   ],
   "source": [
    "arr4.ravel()"
   ]
  },
  {
   "cell_type": "markdown",
   "id": "5d416715-a81d-45a4-8bd8-98255ef7f11c",
   "metadata": {},
   "source": [
    "Converts a multi-dimensional array into a **flattened 1D array**.\n"
   ]
  },
  {
   "cell_type": "markdown",
   "id": "632f92cc-c291-4787-ba93-2d7a7cac176e",
   "metadata": {},
   "source": [
    "#### b. `transpose()` - Transpose the Array"
   ]
  },
  {
   "cell_type": "code",
   "execution_count": 6,
   "id": "12693c17-936d-409a-b50b-915ad88284cf",
   "metadata": {},
   "outputs": [
    {
     "data": {
      "text/plain": [
       "array([[ 6,  8, 10],\n",
       "       [ 7,  9, 11]])"
      ]
     },
     "execution_count": 6,
     "metadata": {},
     "output_type": "execute_result"
    }
   ],
   "source": [
    "arr4.transpose()"
   ]
  },
  {
   "cell_type": "markdown",
   "id": "068b87b4-164f-470c-9094-2782eea94e0a",
   "metadata": {},
   "source": [
    "Swaps rows with columns. Transforms shape from (3, 2) → (2, 3)."
   ]
  },
  {
   "cell_type": "markdown",
   "id": "c27de13e-e156-4768-bbaf-c2408fd072d2",
   "metadata": {},
   "source": [
    "#### 2. Stacking Arrays"
   ]
  },
  {
   "cell_type": "code",
   "execution_count": 7,
   "id": "5686e931-c2a9-4f2d-8d4c-fdef42ace8ed",
   "metadata": {},
   "outputs": [],
   "source": [
    "arr3 = np.array([[0, 1, 2], [3, 4, 5]])\n",
    "arr5 = np.arange(12, 18).reshape(2, 3)"
   ]
  },
  {
   "cell_type": "code",
   "execution_count": 8,
   "id": "8b2bbe81-cce0-470e-8807-9cdeb6d1002a",
   "metadata": {},
   "outputs": [
    {
     "data": {
      "text/plain": [
       "array([[ 0,  1,  2, 12, 13, 14],\n",
       "       [ 3,  4,  5, 15, 16, 17]])"
      ]
     },
     "execution_count": 8,
     "metadata": {},
     "output_type": "execute_result"
    }
   ],
   "source": [
    "# Horizontal stacking\n",
    "np.hstack((arr3, arr5))"
   ]
  },
  {
   "cell_type": "markdown",
   "id": "8f7e209a-b8ff-437b-b36e-48c81a54542c",
   "metadata": {},
   "source": [
    "Stacks arrays **side by side** (column-wise), must have the same number of rows."
   ]
  },
  {
   "cell_type": "code",
   "execution_count": 9,
   "id": "a734ba00-5c2d-401c-a141-c3c07cf1ae73",
   "metadata": {},
   "outputs": [
    {
     "data": {
      "text/plain": [
       "array([[ 0,  1,  2],\n",
       "       [ 3,  4,  5],\n",
       "       [12, 13, 14],\n",
       "       [15, 16, 17]])"
      ]
     },
     "execution_count": 9,
     "metadata": {},
     "output_type": "execute_result"
    }
   ],
   "source": [
    "# Vertical stacking\n",
    "np.vstack((arr3, arr5))"
   ]
  },
  {
   "cell_type": "markdown",
   "id": "8f773dc1-8bd8-424c-9d4f-e86c7ffdc65b",
   "metadata": {},
   "source": [
    "Stacks arrays **on top of each other** (row-wise), must have the same number of columns."
   ]
  },
  {
   "cell_type": "markdown",
   "id": "6c8d1378-19d9-448a-b5a4-762be07754de",
   "metadata": {},
   "source": [
    "### 3. Splitting Arrays"
   ]
  },
  {
   "cell_type": "code",
   "execution_count": 11,
   "id": "9ccd5ab9-4dd3-482e-8e24-25d3d64fb4d9",
   "metadata": {},
   "outputs": [
    {
     "data": {
      "text/plain": [
       "[array([[0, 1, 2],\n",
       "        [3, 4, 5]])]"
      ]
     },
     "execution_count": 11,
     "metadata": {},
     "output_type": "execute_result"
    }
   ],
   "source": [
    "# Horizontal splitting\n",
    "np.hsplit(arr3, 1)"
   ]
  },
  {
   "cell_type": "markdown",
   "id": "d653476a-c9b4-4232-a3e0-458fcac14564",
   "metadata": {},
   "source": [
    "`hsplit`: Splits array into sub-arrays **horizontally**"
   ]
  },
  {
   "cell_type": "code",
   "execution_count": 12,
   "id": "dfcdfe01-3f06-4d50-ad8b-9004104879d9",
   "metadata": {},
   "outputs": [
    {
     "data": {
      "text/plain": [
       "[array([[12, 13, 14]]), array([[15, 16, 17]])]"
      ]
     },
     "execution_count": 12,
     "metadata": {},
     "output_type": "execute_result"
    }
   ],
   "source": [
    "# Vertical splitting\n",
    "np.vsplit(arr5, 2)"
   ]
  },
  {
   "cell_type": "markdown",
   "id": "9cb849f4-6cf5-437f-9c7d-d32464eb617e",
   "metadata": {},
   "source": [
    "`vsplit`: Splits array into sub-arrays **vertically**"
   ]
  },
  {
   "cell_type": "markdown",
   "id": "f9e4cccd-f1e9-4bba-8ca3-dfba7184972f",
   "metadata": {},
   "source": [
    "### 4. Fancy Indexing"
   ]
  },
  {
   "cell_type": "code",
   "execution_count": 13,
   "id": "42544d2a-ebed-496a-95d5-2ef0dc153bf5",
   "metadata": {},
   "outputs": [],
   "source": [
    "arr8 = np.arange(24). reshape(6, 4)"
   ]
  },
  {
   "cell_type": "code",
   "execution_count": 14,
   "id": "456162e9-b70d-45c6-af21-deba342a1f79",
   "metadata": {},
   "outputs": [
    {
     "data": {
      "text/plain": [
       "array([[ 0,  1,  2,  3],\n",
       "       [ 8,  9, 10, 11],\n",
       "       [16, 17, 18, 19]])"
      ]
     },
     "execution_count": 14,
     "metadata": {},
     "output_type": "execute_result"
    }
   ],
   "source": [
    "# fancy Indexing to select specific rows\n",
    "arr8[[0, 2, 4]]"
   ]
  },
  {
   "cell_type": "code",
   "execution_count": 15,
   "id": "b5896ecb-9d74-4cbb-bbdd-0ed672401b19",
   "metadata": {},
   "outputs": [
    {
     "data": {
      "text/plain": [
       "array([[ 0,  1,  2,  3],\n",
       "       [20, 21, 22, 23],\n",
       "       [16, 17, 18, 19]])"
      ]
     },
     "execution_count": 15,
     "metadata": {},
     "output_type": "execute_result"
    }
   ],
   "source": [
    "arr8[[0, 5, 4]]"
   ]
  },
  {
   "cell_type": "markdown",
   "id": "f860fcfc-aa14-42ec-b14f-90b0398a8f26",
   "metadata": {},
   "source": [
    "Allows you to access **multiple non-consecutive rows** (or columns) using a list of indices."
   ]
  },
  {
   "cell_type": "markdown",
   "id": "dd4b58cb-d51f-4d11-8920-5d5097d89471",
   "metadata": {},
   "source": [
    "### 5. Indexing Using Boolean Arrays"
   ]
  },
  {
   "cell_type": "code",
   "execution_count": 16,
   "id": "0cd99053-b5fc-449a-bb37-a16c35faf136",
   "metadata": {},
   "outputs": [],
   "source": [
    "arr = np.random.randint(low=1, high=100, size=20).reshape(4, 5)"
   ]
  },
  {
   "cell_type": "code",
   "execution_count": 17,
   "id": "de24a84f-d773-43ef-b15b-e381a9f63ff6",
   "metadata": {},
   "outputs": [
    {
     "data": {
      "text/plain": [
       "array([[ True, False,  True,  True,  True],\n",
       "       [ True,  True,  True,  True,  True],\n",
       "       [ True,  True,  True, False,  True],\n",
       "       [False,  True,  True,  True,  True]])"
      ]
     },
     "execution_count": 17,
     "metadata": {},
     "output_type": "execute_result"
    }
   ],
   "source": [
    "# Boolean condition on whole array\n",
    "arr > 5"
   ]
  },
  {
   "cell_type": "markdown",
   "id": "477d5069-9c69-4fd0-93bf-6c31f4cb0ac4",
   "metadata": {},
   "source": [
    "Generates a Boolean array with `True` for elements satisfying the condition."
   ]
  },
  {
   "cell_type": "markdown",
   "id": "48e79fc4-f474-4780-bbc3-0a0bc04c8bb9",
   "metadata": {},
   "source": [
    "#### Filtering with conditions"
   ]
  },
  {
   "cell_type": "code",
   "execution_count": 18,
   "id": "5590baa5-7e2d-4629-a897-b73da8f1bf23",
   "metadata": {},
   "outputs": [
    {
     "data": {
      "text/plain": [
       "array([75, 20, 53, 68, 97, 78, 81, 97, 20, 66, 63,  8, 29, 55, 22, 51, 65])"
      ]
     },
     "execution_count": 18,
     "metadata": {},
     "output_type": "execute_result"
    }
   ],
   "source": [
    "arr[arr > 5]"
   ]
  },
  {
   "cell_type": "markdown",
   "id": "b09f46d3-8fb0-4413-a763-04829c14eb07",
   "metadata": {},
   "source": [
    "Filters and returns only those values which are `> 5`"
   ]
  },
  {
   "cell_type": "markdown",
   "id": "477c6ee5-1022-4d03-9b78-48fd9d6a7b1a",
   "metadata": {},
   "source": [
    "#### Multiple Conditions"
   ]
  },
  {
   "cell_type": "code",
   "execution_count": 20,
   "id": "7269e5ab-d2f5-43f7-beea-a667e6049660",
   "metadata": {},
   "outputs": [
    {
     "data": {
      "text/plain": [
       "array([75, 53, 97, 81, 97, 63, 55, 51, 65])"
      ]
     },
     "execution_count": 20,
     "metadata": {},
     "output_type": "execute_result"
    }
   ],
   "source": [
    "arr[(arr > 50) & (arr % 2 != 0)]"
   ]
  },
  {
   "cell_type": "markdown",
   "id": "c04ab18e-b586-44d2-8544-26612dc2e56f",
   "metadata": {},
   "source": [
    "Combines multiple conditions using bitwise `&`. Returns odd numbers greater than 50."
   ]
  },
  {
   "cell_type": "markdown",
   "id": "f0ea5d47-a5b1-458b-b024-4ce6f3d841c2",
   "metadata": {},
   "source": [
    "#### Modify with Boolean Indexing"
   ]
  },
  {
   "cell_type": "code",
   "execution_count": 23,
   "id": "f2231b3d-ee30-45c9-9ea9-8d62f96c9c51",
   "metadata": {},
   "outputs": [
    {
     "data": {
      "text/plain": [
       "array([[ 0,  2, 20,  0, 68],\n",
       "       [ 0, 78,  0,  0, 20],\n",
       "       [66,  0,  8,  3, 29],\n",
       "       [ 1,  0, 22,  0,  0]])"
      ]
     },
     "execution_count": 23,
     "metadata": {},
     "output_type": "execute_result"
    }
   ],
   "source": [
    "arr[(arr > 50) & (arr % 2 != 0)] = 0\n",
    "arr"
   ]
  },
  {
   "cell_type": "markdown",
   "id": "d96610ef-3cc0-4446-9955-3c56e0fec072",
   "metadata": {},
   "source": [
    "Replaces all odd numbers greater than 50 with `0`. Boolean indexing is also used for **in-place modifications**."
   ]
  }
 ],
 "metadata": {
  "kernelspec": {
   "display_name": "Python 3 (ipykernel)",
   "language": "python",
   "name": "python3"
  },
  "language_info": {
   "codemirror_mode": {
    "name": "ipython",
    "version": 3
   },
   "file_extension": ".py",
   "mimetype": "text/x-python",
   "name": "python",
   "nbconvert_exporter": "python",
   "pygments_lexer": "ipython3",
   "version": "3.11.9"
  }
 },
 "nbformat": 4,
 "nbformat_minor": 5
}
